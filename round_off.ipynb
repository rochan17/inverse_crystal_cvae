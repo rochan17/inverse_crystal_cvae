{
 "cells": [
  {
   "cell_type": "code",
   "execution_count": 1,
   "id": "4c574dc9",
   "metadata": {},
   "outputs": [],
   "source": [
    "import numpy as np\n",
    "from matplotlib import pyplot as plt\n",
    "import seaborn as sns\n",
    "import pandas as pd"
   ]
  },
  {
   "cell_type": "code",
   "execution_count": 2,
   "id": "865eecfa",
   "metadata": {},
   "outputs": [],
   "source": [
    "#load dataset with representation for FE prediction\n",
    "data_c = np.load('Combined_data/Janish/data_c_regress.npy')\n",
    "reals = data_c[:,:,:5]"
   ]
  },
  {
   "cell_type": "code",
   "execution_count": 3,
   "id": "1f9e9022",
   "metadata": {},
   "outputs": [
    {
     "data": {
      "text/plain": [
       "array([[0.41716514, 0.41716514, 0.41716514, 0.        , 0.        ],\n",
       "       [0.66666667, 0.5       , 0.66666667, 0.        , 0.        ],\n",
       "       [0.4       , 0.8       , 0.5       , 0.        , 0.5       ],\n",
       "       [0.8       , 0.8       , 0.        , 0.        , 0.        ],\n",
       "       [0.        , 0.        , 0.        , 0.        , 0.        ],\n",
       "       [0.        , 0.        , 0.        , 0.        , 0.        ],\n",
       "       [0.        , 0.        , 0.        , 0.        , 0.        ]])"
      ]
     },
     "execution_count": 3,
     "metadata": {},
     "output_type": "execute_result"
    }
   ],
   "source": [
    "reals[0]"
   ]
  },
  {
   "cell_type": "code",
   "execution_count": 4,
   "id": "5ff164fb",
   "metadata": {},
   "outputs": [],
   "source": [
    "latt_c = reals[:,0,:3]*10\n",
    "ang = reals[:,1,:3]*180\n",
    "coords = reals[:,2:,2:]"
   ]
  },
  {
   "cell_type": "markdown",
   "id": "821bea3c",
   "metadata": {},
   "source": [
    "# Lattice_const"
   ]
  },
  {
   "cell_type": "code",
   "execution_count": 5,
   "id": "f16caf33",
   "metadata": {},
   "outputs": [
    {
     "name": "stdout",
     "output_type": "stream",
     "text": [
      "461 [2.36 2.41 2.42 2.43 2.44 2.45 2.46 2.47 2.48 2.49 2.5  2.51 2.52 2.53\n",
      " 2.54 2.55 2.56 2.57 2.58 2.59 2.6  2.61 2.62 2.63 2.64 2.65 2.66 2.67\n",
      " 2.68 2.69 2.7  2.71 2.72 2.73 2.74 2.75 2.76 2.77 2.78 2.79 2.8  2.81\n",
      " 2.82 2.83 2.84 2.85 2.86 2.87 2.88 2.89 2.9  2.91 2.92 2.93 2.94 2.95\n",
      " 2.96 2.97 2.98 2.99 3.   3.01 3.02 3.03 3.04 3.05 3.06 3.07 3.08 3.09\n",
      " 3.1  3.11 3.12 3.13 3.14 3.15 3.16 3.17 3.18 3.19 3.2  3.21 3.22 3.23\n",
      " 3.24 3.25 3.26 3.27 3.28 3.29 3.3  3.31 3.32 3.33 3.34 3.35 3.36 3.37\n",
      " 3.38 3.39 3.4  3.41 3.42 3.43 3.44 3.45 3.46 3.47 3.48 3.49 3.5  3.51\n",
      " 3.52 3.53 3.54 3.55 3.56 3.57 3.58 3.59 3.6  3.61 3.62 3.63 3.64 3.65\n",
      " 3.66 3.67 3.68 3.69 3.7  3.71 3.72 3.73 3.74 3.75 3.76 3.77 3.78 3.79\n",
      " 3.8  3.81 3.82 3.83 3.84 3.85 3.86 3.87 3.88 3.89 3.9  3.91 3.92 3.93\n",
      " 3.94 3.95 3.96 3.97 3.98 3.99 4.   4.01 4.02 4.03 4.04 4.05 4.06 4.07\n",
      " 4.08 4.09 4.1  4.11 4.12 4.13 4.14 4.15 4.16 4.17 4.18 4.19 4.2  4.21\n",
      " 4.22 4.23 4.24 4.25 4.26 4.27 4.28 4.29 4.3  4.31 4.32 4.33 4.34 4.35\n",
      " 4.36 4.37 4.38 4.39 4.4  4.41 4.42 4.43 4.44 4.45 4.46 4.47 4.48 4.49\n",
      " 4.5  4.51 4.52 4.53 4.54 4.55 4.56 4.57 4.58 4.59 4.6  4.61 4.62 4.63\n",
      " 4.64 4.65 4.66 4.67 4.68 4.69 4.7  4.71 4.72 4.73 4.74 4.75 4.76 4.77\n",
      " 4.78 4.79 4.8  4.81 4.82 4.83 4.84 4.85 4.86 4.87 4.88 4.89 4.9  4.91\n",
      " 4.92 4.93 4.94 4.95 4.96 4.97 4.98 4.99 5.   5.01 5.02 5.03 5.04 5.05\n",
      " 5.06 5.07 5.08 5.09 5.1  5.11 5.12 5.13 5.14 5.15 5.16 5.17 5.18 5.19\n",
      " 5.2  5.21 5.22 5.23 5.24 5.25 5.26 5.27 5.28 5.29 5.3  5.31 5.32 5.33\n",
      " 5.34 5.35 5.36 5.37 5.38 5.39 5.4  5.41 5.42 5.43 5.44 5.45 5.46 5.47\n",
      " 5.48 5.49 5.5  5.51 5.52 5.53 5.54 5.55 5.56 5.57 5.58 5.59 5.6  5.61\n",
      " 5.62 5.63 5.64 5.65 5.66 5.67 5.68 5.69 5.7  5.71 5.72 5.73 5.74 5.75\n",
      " 5.76 5.77 5.78 5.79 5.8  5.81 5.82 5.83 5.84 5.85 5.86 5.87 5.88 5.89\n",
      " 5.9  5.91 5.92 5.93 5.94 5.95 5.96 5.97 5.98 5.99 6.   6.01 6.02 6.03\n",
      " 6.04 6.05 6.06 6.07 6.08 6.09 6.1  6.11 6.12 6.13 6.14 6.15 6.16 6.17\n",
      " 6.18 6.19 6.2  6.21 6.22 6.23 6.24 6.25 6.26 6.27 6.28 6.29 6.3  6.31\n",
      " 6.32 6.33 6.34 6.35 6.36 6.37 6.38 6.39 6.4  6.41 6.42 6.43 6.44 6.45\n",
      " 6.46 6.47 6.48 6.49 6.5  6.51 6.52 6.53 6.54 6.55 6.56 6.57 6.58 6.59\n",
      " 6.6  6.61 6.62 6.63 6.64 6.65 6.66 6.67 6.68 6.69 6.7  6.71 6.72 6.73\n",
      " 6.74 6.75 6.76 6.77 6.78 6.79 6.8  6.81 6.82 6.83 6.84 6.85 6.86 6.87\n",
      " 6.88 6.89 6.9  6.91 6.92 6.93 6.94 6.95 6.96 6.97 6.98 6.99 7.  ] [  1   2   2   2   2   8   8   6   6   1  16  10   1   3   5  16   3  11\n",
      "   8  17  12  21   5  12   7  18  46  16  26  32  22  23  25  44  36  56\n",
      "  23  26  31  42  57  45  49  58  46  80  65 101  49  69  58  62  80  83\n",
      " 110 114  82  87  98 116 151 138 136 136 106  94 118 173 114 108 124 167\n",
      " 122 104 120  99 150 138 158 151 140 121 121 129 150 110 119 106 123 111\n",
      " 139 128 114 128 119 150  97 113 118 132  77  83 117 109  72 118 177  91\n",
      " 145 137 131 130 145 136  97 171 125 154 138 158 180 147 144 165 207 159\n",
      " 162 134 181 142 177 168 215 295 229 214 260 249 299 273 311 295 202 273\n",
      " 320 284 358 345 291 362 329 351 322 334 364 421 419 372 415 395 413 421\n",
      " 502 551 555 589 596 534 546 589 660 632 560 531 591 574 703 659 645 719\n",
      " 687 748 746 709 730 685 736 780 735 748 689 720 616 712 690 663 700 721\n",
      " 638 585 736 747 642 731 650 627 762 678 717 673 655 697 783 758 722 738\n",
      " 634 737 695 726 722 672 634 621 728 795 793 741 738 678 650 675 689 638\n",
      " 695 760 754 741 797 765 850 753 764 802 771 698 718 809 727 833 705 757\n",
      " 785 762 721 705 605 749 682 602 655 720 649 601 563 592 593 597 616 551\n",
      " 589 579 523 551 585 488 530 557 542 488 466 502 466 503 475 455 531 478\n",
      " 503 431 513 504 502 458 482 482 416 516 448 463 409 428 420 410 434 374\n",
      " 374 401 398 363 386 385 374 404 361 383 376 382 397 398 363 384 335 383\n",
      " 371 365 396 388 353 415 404 375 366 313 344 389 334 363 334 349 367 331\n",
      " 305 391 318 325 376 335 402 314 298 296 304 330 306 308 307 262 274 269\n",
      " 284 216 267 226 235 242 225 223 234 237 238 208 209 208 232 205 152 200\n",
      " 152 201 204 187 151 148 144 166 183 178 145 151 132 115 151 149 151 166\n",
      " 152 157 150 147 150 138 127 176 119  99 141 139 105 131 158 117 112 128\n",
      " 122 114 130 113 121 119 119 105  99 104  95  96 127  74 120 117 111  77\n",
      "  96  98  95 101 103 113  91 105 123 103  92 110  66 109  91 127 107 108\n",
      "  59  80  77  66  87 106 109  91  87  93  33]\n"
     ]
    }
   ],
   "source": [
    "(vals,freq) = np.unique(latt_c.round(2),return_counts = True)\n",
    "print(len(vals),vals,freq)"
   ]
  },
  {
   "cell_type": "code",
   "execution_count": 6,
   "id": "2d0fa015",
   "metadata": {},
   "outputs": [
    {
     "data": {
      "text/plain": [
       "Text(0, 0.5, 'Probability')"
      ]
     },
     "execution_count": 6,
     "metadata": {},
     "output_type": "execute_result"
    },
    {
     "data": {
      "image/png": "[encoded data removed]",
      "text/plain": [
       "<Figure size 432x288 with 1 Axes>"
      ]
     },
     "metadata": {
      "needs_background": "light"
     },
     "output_type": "display_data"
    }
   ],
   "source": [
    "plt.bar(vals[1:],freq[1:]/freq.sum(),width = 0.01)\n",
    "plt.xlabel('Lattice constant')\n",
    "plt.ylabel('Probability')"
   ]
  },
  {
   "cell_type": "markdown",
   "id": "1943aa8d",
   "metadata": {},
   "source": [
    "# Angs"
   ]
  },
  {
   "cell_type": "code",
   "execution_count": 10,
   "id": "cd4fb40d",
   "metadata": {},
   "outputs": [
    {
     "name": "stdout",
     "output_type": "stream",
     "text": [
      "7449 [ 25.48  25.5   26.25 ... 155.31 155.62 156.04] [3 3 3 ... 2 2 2]\n"
     ]
    },
    {
     "data": {
      "text/plain": [
       "Text(0, 0.5, 'Probability')"
      ]
     },
     "execution_count": 10,
     "metadata": {},
     "output_type": "execute_result"
    },
    {
     "data": {
      "image/png": "[encoded data removed]",
      "text/plain": [
       "<Figure size 432x288 with 1 Axes>"
      ]
     },
     "metadata": {
      "needs_background": "light"
     },
     "output_type": "display_data"
    }
   ],
   "source": [
    "(vals,freq) = np.unique(ang.round(2),return_counts = True)\n",
    "print(len(vals),vals,freq)\n",
    "plt.bar(vals[0:],freq[0:]/freq.sum(),width = 1)\n",
    "plt.xlabel('Lattice Angle')\n",
    "plt.ylabel('Probability')"
   ]
  },
  {
   "cell_type": "code",
   "execution_count": 12,
   "id": "fde647f3",
   "metadata": {},
   "outputs": [],
   "source": [
    "idx = np.argsort(freq)\n",
    "freq = freq[idx]\n",
    "vals = vals[idx]"
   ]
  },
  {
   "cell_type": "code",
   "execution_count": 13,
   "id": "4cba524c",
   "metadata": {},
   "outputs": [
    {
     "data": {
      "text/plain": [
       "array([73279, 35787,  3722,   489,   127,   113,    84,    79,    78,\n",
       "          53,    52,    51,    44,    43,    43,    40,    40,    37,\n",
       "          36,    35,    35,    35,    34,    34,    34,    34,    33,\n",
       "          33,    32,    32,    32,    32,    32,    32,    31,    31,\n",
       "          31,    30,    30,    30,    30,    30,    30,    30,    30,\n",
       "          30,    30,    30,    29,    29,    29,    29,    29,    29,\n",
       "          28,    28,    28,    28,    28,    28,    27,    27,    27,\n",
       "          27,    26,    26,    26,    26,    26,    26,    26,    26,\n",
       "          25,    25,    25,    25,    25,    25,    25,    25,    25,\n",
       "          24,    24,    24,    24,    24,    24,    24,    24,    24,\n",
       "          24,    24,    24,    24,    24,    24,    24,    23,    23,\n",
       "          23,    23,    23,    23,    23,    23,    23,    23,    22,\n",
       "          22,    22,    22,    22,    22,    22,    22,    22,    22,\n",
       "          22,    22,    22,    22,    22,    22,    22,    22,    22,\n",
       "          22,    22,    22,    22,    22,    22,    22,    22,    22,\n",
       "          21,    21,    21,    21,    21,    21,    21,    21,    21,\n",
       "          21,    21,    21,    21,    21,    21,    21,    21,    21,\n",
       "          20,    20,    20,    20,    20,    20,    20,    20,    20,\n",
       "          20,    20,    20,    20,    20,    20,    20,    20,    20,\n",
       "          20,    20,    20,    20,    20,    20,    20,    20,    20,\n",
       "          20,    20,    20,    20,    20,    19,    19,    19,    19,\n",
       "          19,    19,    19,    19,    19,    19,    19,    19,    19,\n",
       "          19,    19], dtype=int64)"
      ]
     },
     "execution_count": 13,
     "metadata": {},
     "output_type": "execute_result"
    }
   ],
   "source": [
    "freq[::-1][:200]"
   ]
  },
  {
   "cell_type": "code",
   "execution_count": 14,
   "id": "123d168e",
   "metadata": {},
   "outputs": [
    {
     "data": {
      "text/plain": [
       "array([ 60.  ,  90.  , 120.  ,  45.  ,  59.99,  90.01,  89.99, 109.47,\n",
       "        59.98, 119.99,  60.01,  59.97,  60.02, 138.19,  59.95,  90.02,\n",
       "       139.34,  59.93,  59.89, 137.86,  59.9 , 138.77,  59.78, 139.23,\n",
       "       138.89, 138.51,  59.86, 139.  , 139.44, 139.43, 139.19, 138.8 ,\n",
       "       138.71, 138.9 ,  90.03, 140.03, 138.57,  59.79, 138.76, 138.83,\n",
       "       138.74,  89.98, 138.68,  59.73, 138.78,  90.07, 138.88, 138.53,\n",
       "        90.05, 138.52,  89.97, 146.59, 139.16,  59.88, 138.81, 120.01,\n",
       "       139.08, 138.25, 139.18, 139.26, 138.08, 139.1 , 119.9 , 138.66,\n",
       "       138.67,  59.67, 139.98, 139.46, 139.2 , 138.6 , 139.7 , 138.4 ,\n",
       "       138.33, 137.14,  59.92, 138.21,  60.03, 138.37, 138.99,  90.08,\n",
       "       138.62, 139.13, 139.61, 138.92, 138.79, 139.35, 139.06, 139.9 ,\n",
       "       139.42, 139.39, 138.32, 139.31, 139.59, 138.28, 132.23, 138.5 ,\n",
       "       132.17, 140.08, 138.34, 139.11, 139.49, 138.22,  60.06,  59.64,\n",
       "       132.06, 137.91,  59.84, 138.95, 139.29, 138.64, 137.93, 141.82,\n",
       "       138.61,  59.45, 137.11, 140.25, 139.12, 137.53, 139.03, 139.41,\n",
       "       139.84, 139.63,  90.06, 139.14, 138.69, 140.47,  59.55,  89.96,\n",
       "       139.96, 138.14, 138.18, 138.01, 138.93, 138.73, 139.17,  33.57,\n",
       "       139.36, 138.09,  59.91, 136.34, 136.54, 138.41, 138.27, 136.61,\n",
       "       138.12, 137.57, 110.28, 138.97, 139.04,  60.05, 138.91, 138.06,\n",
       "        60.04, 138.63, 139.01, 140.42, 110.89, 138.85, 138.55, 138.59,\n",
       "       139.93, 138.65, 138.84, 138.47, 138.94, 139.75, 137.9 , 141.59,\n",
       "       138.72,  60.1 , 139.56,  60.07, 139.32, 139.45, 139.6 , 139.37,\n",
       "       139.72, 139.53, 139.09, 132.33,  59.96, 136.57, 136.88, 137.36,\n",
       "       140.38, 136.5 , 138.86, 137.34, 137.92, 136.97, 139.28, 139.21,\n",
       "       137.97, 132.13, 137.62, 138.1 ,  59.44,  59.26, 111.23,  59.85])"
      ]
     },
     "execution_count": 14,
     "metadata": {},
     "output_type": "execute_result"
    }
   ],
   "source": [
    "vals[::-1][:200]"
   ]
  },
  {
   "cell_type": "code",
   "execution_count": 15,
   "id": "20b2b9bf",
   "metadata": {},
   "outputs": [],
   "source": [
    "(a,b) = np.unique(vals[::-1][:200].round(),return_counts = True)\n",
    "freq_a = []\n",
    "for i in a:\n",
    "    k = np.sum(freq[::-1][:200][vals[::-1][:200].round() == i])\n",
    "    freq_a.append(k)\n",
    "freq_a = np.array(freq_a)\n",
    "idx0 = np.argsort(freq_a)\n",
    "a0 = a[idx0]\n",
    "freq_a0 = freq_a[idx0]"
   ]
  },
  {
   "cell_type": "code",
   "execution_count": 16,
   "id": "35f98410",
   "metadata": {},
   "outputs": [
    {
     "data": {
      "text/plain": [
       "array([ 60.,  90., 120., 139., 138.,  45., 140., 137., 132., 109.,  59.,\n",
       "       142., 136., 111., 147., 110.,  34.])"
      ]
     },
     "execution_count": 16,
     "metadata": {},
     "output_type": "execute_result"
    }
   ],
   "source": [
    "a0[::-1]"
   ]
  },
  {
   "cell_type": "code",
   "execution_count": 17,
   "id": "037b0d7c",
   "metadata": {},
   "outputs": [
    {
     "data": {
      "text/plain": [
       "array([74247, 36242,  3830,  1924,   727,   489,   448,   187,   110,\n",
       "          79,    60,    42,    40,    39,    29,    21,    21],\n",
       "      dtype=int64)"
      ]
     },
     "execution_count": 17,
     "metadata": {},
     "output_type": "execute_result"
    }
   ],
   "source": [
    "freq_a0[::-1]"
   ]
  },
  {
   "cell_type": "code",
   "execution_count": null,
   "id": "b8d7f48d",
   "metadata": {},
   "outputs": [],
   "source": [
    "angs = [45,60,90,120,110,135]\n"
   ]
  },
  {
   "cell_type": "markdown",
   "id": "538b2a12",
   "metadata": {},
   "source": [
    "# Coords"
   ]
  },
  {
   "cell_type": "code",
   "execution_count": 5,
   "id": "45165ffc",
   "metadata": {},
   "outputs": [
    {
     "name": "stdout",
     "output_type": "stream",
     "text": [
      "1001 [0.    0.001 0.002 ... 0.998 0.999 1.   ] [325271    550    395 ...    341    612      9]\n"
     ]
    },
    {
     "data": {
      "text/plain": [
       "Text(0, 0.5, 'probability')"
      ]
     },
     "execution_count": 5,
     "metadata": {},
     "output_type": "execute_result"
    },
    {
     "data": {
      "image/png": "[encoded data removed]",
      "text/plain": [
       "<Figure size 432x288 with 1 Axes>"
      ]
     },
     "metadata": {
      "needs_background": "light"
     },
     "output_type": "display_data"
    }
   ],
   "source": [
    "(vals,freq) = np.unique(coords.round(3),return_counts = True)\n",
    "print(len(vals),vals,freq)\n",
    "plt.bar(vals[0:],freq[0:]/freq.sum(),width = 0.005)\n",
    "plt.xlabel('coordinate')\n",
    "plt.ylabel('probability')"
   ]
  },
  {
   "cell_type": "code",
   "execution_count": 6,
   "id": "dcdecc58",
   "metadata": {},
   "outputs": [],
   "source": [
    "idx = np.argsort(freq)\n",
    "freq = freq[idx]\n",
    "vals = vals[idx]"
   ]
  },
  {
   "cell_type": "code",
   "execution_count": 7,
   "id": "ffa0b3d8",
   "metadata": {},
   "outputs": [
    {
     "data": {
      "text/plain": [
       "array([325271, 147448,  86015,  85381,   5628,   5608,    612,    550,\n",
       "          408,    398,    395,    394,    383,    383,    382,    380,\n",
       "          377,    368,    366,    366,    364,    362,    354,    350,\n",
       "          349,    344,    343,    341,    340,    339,    334,    331,\n",
       "          323,    321,    320,    317,    317,    316,    314,    310,\n",
       "          310,    310,    309,    309,    306,    305,    292,    287,\n",
       "          287,    286,    279,    271,    270,    269,    269,    269,\n",
       "          267,    262,    260,    258,    258,    255,    255,    250,\n",
       "          248,    248,    246,    245,    244,    240,    240,    239,\n",
       "          237,    236,    234,    234,    234,    233,    232,    230,\n",
       "          229,    229,    229,    229,    229,    226,    226,    225,\n",
       "          225,    224,    223,    222,    222,    219,    215,    215,\n",
       "          213,    211,    209,    208], dtype=int64)"
      ]
     },
     "execution_count": 7,
     "metadata": {},
     "output_type": "execute_result"
    }
   ],
   "source": [
    "freq[::-1][:100]"
   ]
  },
  {
   "cell_type": "code",
   "execution_count": 8,
   "id": "29b7865a",
   "metadata": {},
   "outputs": [
    {
     "data": {
      "text/plain": [
       "array([0.   , 0.5  , 0.25 , 0.75 , 0.667, 0.333, 0.999, 0.001, 0.626,\n",
       "       0.374, 0.002, 0.375, 0.625, 0.379, 0.378, 0.621, 0.377, 0.627,\n",
       "       0.373, 0.622, 0.623, 0.38 , 0.619, 0.376, 0.381, 0.249, 0.37 ,\n",
       "       0.998, 0.624, 0.62 , 0.501, 0.63 , 0.372, 0.749, 0.499, 0.752,\n",
       "       0.629, 0.616, 0.252, 0.003, 0.618, 0.628, 0.751, 0.371, 0.383,\n",
       "       0.382, 0.997, 0.251, 0.631, 0.369, 0.363, 0.748, 0.384, 0.757,\n",
       "       0.617, 0.248, 0.755, 0.004, 0.243, 0.637, 0.754, 0.385, 0.255,\n",
       "       0.386, 0.743, 0.257, 0.254, 0.245, 0.253, 0.361, 0.634, 0.639,\n",
       "       0.614, 0.36 , 0.387, 0.633, 0.615, 0.389, 0.632, 0.244, 0.64 ,\n",
       "       0.611, 0.368, 0.745, 0.747, 0.388, 0.366, 0.638, 0.996, 0.498,\n",
       "       0.612, 0.753, 0.247, 0.613, 0.502, 0.995, 0.758, 0.756, 0.635,\n",
       "       0.256])"
      ]
     },
     "execution_count": 8,
     "metadata": {},
     "output_type": "execute_result"
    }
   ],
   "source": [
    "vals[::-1][:100]"
   ]
  },
  {
   "cell_type": "code",
   "execution_count": 9,
   "id": "25927c0a",
   "metadata": {},
   "outputs": [],
   "source": [
    "(a,b) = np.unique(vals[::-1][:200].round(2),return_counts = True)\n",
    "freq_a = []\n",
    "for i in a:\n",
    "    k = np.sum(freq[::-1][:200][vals[::-1][:200].round(2) == i])\n",
    "    freq_a.append(k)\n",
    "freq_a = np.array(freq_a)\n",
    "idx0 = np.argsort(freq_a)\n",
    "a0 = a[idx0]\n",
    "freq_a0 = freq_a[idx0]"
   ]
  },
  {
   "cell_type": "code",
   "execution_count": 10,
   "id": "e30d6d3f",
   "metadata": {},
   "outputs": [],
   "source": [
    "big_vals =  [0.,0.125,0.25,0.33,0.375,0.5,0.625,0.667,0.75,0.875,1.]\n",
    " # customize your plots style\n"
   ]
  },
  {
   "cell_type": "code",
   "execution_count": 11,
   "id": "bc4a4804",
   "metadata": {},
   "outputs": [],
   "source": [
    "style_list =  sorted(\n",
    "        style for style in plt.style.available\n",
    "        if style != 'classic' and not style.startswith('_'))"
   ]
  },
  {
   "cell_type": "code",
   "execution_count": 12,
   "id": "791726e8",
   "metadata": {},
   "outputs": [
    {
     "data": {
      "text/plain": [
       "['bmh',\n",
       " 'dark_background',\n",
       " 'fivethirtyeight',\n",
       " 'ggplot',\n",
       " 'seaborn',\n",
       " 'seaborn-brightseaborn-dark-palette',\n",
       " 'seaborn-darkgrid',\n",
       " 'seaborn-muted',\n",
       " 'seaborn-white',\n",
       " 'seaborn-whitegrid',\n",
       " 'tableau-colorblind10']"
      ]
     },
     "execution_count": 12,
     "metadata": {},
     "output_type": "execute_result"
    }
   ],
   "source": [
    "['bmh',\n",
    " 'dark_background',\n",
    " 'fivethirtyeight',\n",
    " 'ggplot',\n",
    " 'seaborn',\n",
    " 'seaborn-bright'\n",
    " 'seaborn-dark-palette',\n",
    " 'seaborn-darkgrid',\n",
    " 'seaborn-muted',\n",
    " 'seaborn-white',\n",
    " 'seaborn-whitegrid',\n",
    " 'tableau-colorblind10']\n"
   ]
  },
  {
   "cell_type": "code",
   "execution_count": 13,
   "id": "b0c52e30",
   "metadata": {},
   "outputs": [],
   "source": [
    "%matplotlib inline\n",
    "import matplotlib \n",
    "# matplotlib.style.use('ggplot')\n",
    "# matplotlib.style.use('dark_background')\n",
    "matplotlib.style.use('seaborn-whitegrid')"
   ]
  },
  {
   "cell_type": "code",
   "execution_count": 40,
   "id": "936a3164",
   "metadata": {},
   "outputs": [],
   "source": [
    "def fun(coords,big_vals):\n",
    "    \n",
    "    lels = adapt_round(coords,big_vals)\n",
    "    unique_vals = np.unique(lels)\n",
    "    dim = len(unique_vals)\n",
    "    print(f'{dim} Unique Values = \\n',unique_vals)\n",
    "    \n",
    "    \n",
    "    (vals0,freq0) = np.unique(coords.round(1),return_counts = True)\n",
    "    (vals1,freq1) = np.unique(lels,return_counts = True)\n",
    "    (vals2,freq2) = np.unique(coords.round(4),return_counts = True)\n",
    "#     color = 'mediumslateblue'\n",
    "    color = 'dodgerblue'\n",
    "    fig,ax = plt.subplots(1,3,figsize = (18,4))\n",
    "\n",
    "\n",
    "    plt.rc('font', size=16)          # controls default text sizes\n",
    "    plt.rc('axes', titlesize=16)     # fontsize of the axes title\n",
    "    plt.rc('axes', labelsize=16)    # fontsize of the x and y labels\n",
    "    plt.rc('xtick', labelsize=16)    # fontsize of the tick labels\n",
    "    plt.rc('ytick', labelsize=16)    # fontsize of the tick labels\n",
    "    w = 0.01\n",
    "    ax[0].bar(vals0[1:],freq0[1:]/freq0.sum(),width = w,color = color)\n",
    "    ax[0].set_title('Normal round off')                     #normal round off to 10 values\n",
    "    ax[1].bar(vals1[1:],freq1[1:]/freq1.sum(),width = w,color = color)\n",
    "    ax[1].set_title(f'Flexible round off')                 #flexible round off to 11 discrete values\n",
    "    ax[2].bar(vals2[1:],freq2[1:]/freq2.sum(),width = w,color = color)\n",
    "    ax[2].set_title('Actual distribution')\n",
    "\n",
    "    for i in [0,1,2]:\n",
    "        ax[i].set_xlabel('Scaled coordinate')\n",
    "        ax[i].set_ylabel('Probability')\n",
    "        \n",
    "#         ax[i].grid(False)\n",
    "    plt.tight_layout()\n",
    "    plt.savefig('plots/Figure_2.png',format = 'png',dpi = 300)\n",
    "    return lels\n"
   ]
  },
  {
   "cell_type": "code",
   "execution_count": 41,
   "id": "145df23f",
   "metadata": {},
   "outputs": [],
   "source": [
    "def adapt_round(x,big_vals):\n",
    "    \n",
    "    (vals,freq) = np.unique(x.round(4),return_counts = True)\n",
    "    lels= np.copy(x.round(4))\n",
    "    \n",
    "    for i in np.arange(len(vals)):\n",
    "        \n",
    "        val = vals[i]\n",
    "        arr = np.abs(val-big_vals)\n",
    "        idx = np.argmin(arr)\n",
    "        new_val = big_vals[idx]   \n",
    "        lels = np.where(lels==val,new_val,lels)\n",
    "\n",
    "    return lels\n",
    "\n"
   ]
  },
  {
   "cell_type": "code",
   "execution_count": 42,
   "id": "06064deb",
   "metadata": {},
   "outputs": [
    {
     "name": "stdout",
     "output_type": "stream",
     "text": [
      "11 Unique Values = \n",
      " [0.    0.125 0.25  0.33  0.375 0.5   0.625 0.667 0.75  0.875 1.   ]\n"
     ]
    },
    {
     "data": {
      "image/png": "[encoded data removed]",
      "text/plain": [
       "<Figure size 1296x288 with 3 Axes>"
      ]
     },
     "metadata": {},
     "output_type": "display_data"
    }
   ],
   "source": [
    "#Get rounded coordinates\n",
    "x_copy = np.copy(reals)\n",
    "coords = x_copy[:,2:,2:]\n",
    "new_coords = fun(coords,big_vals)"
   ]
  },
  {
   "cell_type": "code",
   "execution_count": null,
   "id": "1050f333",
   "metadata": {},
   "outputs": [],
   "source": [
    "plt.rcParams.update({'family': 22})"
   ]
  }
 ],
 "metadata": {
  "kernelspec": {
   "display_name": "Python 3",
   "language": "python",
   "name": "python3"
  },
  "language_info": {
   "codemirror_mode": {
    "name": "ipython",
    "version": 3
   },
   "file_extension": ".py",
   "mimetype": "text/x-python",
   "name": "python",
   "nbconvert_exporter": "python",
   "pygments_lexer": "ipython3",
   "version": "3.7.10"
  }
 },
 "nbformat": 4,
 "nbformat_minor": 5
}
